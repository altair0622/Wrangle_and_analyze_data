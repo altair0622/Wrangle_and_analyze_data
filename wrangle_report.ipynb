{
 "cells": [
  {
   "cell_type": "markdown",
   "metadata": {},
   "source": [
    "# Wrangle Report\n",
    " \n",
    "This is a report that briefly describes my wrangling efforts on the tweet archive of Twitter called WeRateDogs. WeRateDogs is a Twitter account that rates people's dogs with a humorous comment about the dog."
   ]
  },
  {
   "cell_type": "markdown",
   "metadata": {},
   "source": [
    "## Gathering Data\n",
    "Data is successfully gathered:\n",
    "- WeRateDogs Twitter archive file which was hosted on Udacity's website\n",
    "- tweet image predictions downloaded programatically  \n",
    "- tweet IDs used in Twitter archive file, query the Twitter API for each tweet's JSON data using Python's Tweepy library\n",
    "\n",
    "\n",
    "\n",
    "## Assessing Data\n",
    "1. Two types of assessment can be used:\n",
    "   - Visual assessment: each piece of gathered data is displayed in the Jupyter Notebook for visual assessment purposes. Once displayed, data can additionally be assessed in an external application (e.g. Excel, text editor).\n",
    "   - Programmatic assessment: pandas' functions and/or methods are used to assess the data.\n",
    "2. 9 data quality issues and 3 tidiness issues were detected, and the issues were cleaned to satisfy the Project Motivation. Each issue was documented in one to a few sentences each.\n",
    "\n",
    "#### Quality\n",
    "1. tw_archive: Keep only original ratings\n",
    "- tw_archive: Correct numerators \n",
    "- tw_archive: Correct denominators\n",
    "- tw_archive: Merge dogs stages \n",
    "- image: Drop jpg_url duplicated ones \n",
    "- image: Delete useless columns \n",
    "- tw_json: Keep original tweets only\n",
    "- tw_archive: Delete useless columns\n",
    "\n",
    "#### Tidiness \n",
    "\n",
    "1. Change datatype to merge with the other tables\n",
    "- Merge tw_archive_clean, image_clean, and tw_json_clean dataframes.\n",
    "- Compare rating_numerator and rating and keep only the same value.\n",
    "\n",
    "## Cleaning Data\n",
    "- The define, code, and test steps of the cleaning process were clearly documented.\n",
    "- Copies of the original pieces of data were made prior to cleaning.\n",
    "- All issues identified in the assess phase were successfully cleaned using Python and pandas.\n",
    "- A tidy master dataset with all pieces of gathered data was created.\n",
    "\n"
   ]
  },
  {
   "cell_type": "markdown",
   "metadata": {},
   "source": [
    "## Storing and Acting on Wrangled Data\n",
    "- the clean DataFrame was saved in a CSV file named `twitter_archive_master.csv`.\n",
    "- The master dataset is analyzed using pandas in the Jupyter Notebook and three separate insights were produced with visualization in the Jupyter Notebook using Python’s plotting libraries."
   ]
  },
  {
   "cell_type": "code",
   "execution_count": null,
   "metadata": {},
   "outputs": [],
   "source": []
  }
 ],
 "metadata": {
  "kernelspec": {
   "display_name": "Python 3",
   "language": "python",
   "name": "python3"
  },
  "language_info": {
   "codemirror_mode": {
    "name": "ipython",
    "version": 3
   },
   "file_extension": ".py",
   "mimetype": "text/x-python",
   "name": "python",
   "nbconvert_exporter": "python",
   "pygments_lexer": "ipython3",
   "version": "3.7.3"
  }
 },
 "nbformat": 4,
 "nbformat_minor": 2
}
